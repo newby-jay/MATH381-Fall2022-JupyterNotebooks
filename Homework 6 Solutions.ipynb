{
 "cells": [
  {
   "cell_type": "code",
   "execution_count": 1,
   "metadata": {},
   "outputs": [
    {
     "name": "stdout",
     "output_type": "stream",
     "text": [
      "Populating the interactive namespace from numpy and matplotlib\n"
     ]
    }
   ],
   "source": [
    "%pylab inline\n",
    "%config InlineBackend.figure_format = 'retina'\n",
    "from ipywidgets import interact"
   ]
  },
  {
   "cell_type": "markdown",
   "metadata": {},
   "source": [
    "Turn in an image (e.g., screenshot) or PDF copy of any code that is part of your answer. Make sure all images and PDF pages are properly rotated. Make sure that all pages are clearly visible. \n",
    "\n",
    "Tips: Use the document scanner function on your smart phone to take better page \"scans\" using your camera. Make sure your screen is not shifted toward warmer colours (some devices filter blue light at night) giving it a dim and orange appearance. "
   ]
  },
  {
   "cell_type": "markdown",
   "metadata": {},
   "source": [
    "# Q1\n",
    "\n",
    "## A\n",
    "Derive a method for computing the determinant of a matrix $A\\in \\mathbb{R}^{n\\times n}$ using Gaussian elimination with partial pivoting. **Hint: use the fact that a permutation matrix is an orthogonal matrix.**\n",
    "\n",
    "------------------------------------------------------------------------------\n",
    "\n",
    "For Gaussian elimination with partial pivoting we have \n",
    "$$ P A = LU, $$\n",
    "where $P$ is a permutation matrix. Since the permutation matrix is an orthogonal matrix, it is also nonsingular. Taking the determinant to both sides of the above equation yields $\\det(P) \\det(A) = \\det(L)\\det(U)$. Since $\\det(L) = 1$ we have that $\\det(A) = \\det(U)/\\det(P)$. If we know $\\det(P)$ then our formula is given by $\\det(A) = \\frac{1}{\\det(P)} \\prod_{i=1}^n u_{ii}$. This last follows from the fact that $U$ is upper triangular.\n",
    "\n",
    "Since $P$ is an orthogonal matrix we have that $I = P^T P$, and it follows that $1 = \\det(I) = \\det(P^T P) = \\det(P^T)\\det(P) = \\det(P)^2$. Hence $\\det(P) = \\pm 1$. to determine the sign of the determinant, we define $m$ to be the number of row swaps used in Gauassian elimination with partial pivoting, and we define $\\sigma = (-1)^m$. The matrix $P$ is rarely formed explicitly. Instead a vector of row permutations is stored and one can keep track of the number of row swaps that are used. One can show that $\\det(P) = \\sigma$. This last step requires no additional floating point operations to compute, since the information is obtained from the decomposition without extra work.\n",
    "\n",
    "Our final formula becomes\n",
    "$$\\det(A) = \\sigma\\prod_{i=1}^n u_{ii}.$$\n",
    "\n",
    "\n",
    "\n",
    "\n",
    "## B\n",
    "Assume that the LU decomposition has already been computed. Show that the method for computing the determinant requires $n$ floating point operations.\n",
    "\n",
    "------------------------------------------------------------------------------\n",
    "\n",
    "The determinant formula in part A requires exactly $n$ multiplications."
   ]
  },
  {
   "cell_type": "markdown",
   "metadata": {},
   "source": [
    "# Q2\n",
    "Let $b + \\delta b$ be a perturbation of the vector $b\\neq 0$ and let $x$ and $\\delta x$ be such that $Ax = b$ and $A(x + \\delta x) = b + \\delta b$, where $A$ is a given nonsingular matrix. Show that \n",
    "$$\n",
    "\\frac{\\Vert \\delta x \\Vert }{\\Vert x \\Vert } \\leq \\kappa(A) \\frac{\\Vert \\delta b \\Vert }{\\Vert b \\Vert }.\n",
    "$$\n",
    "\n",
    "------------------------------------------------------------------------------\n",
    "\n",
    "From $A(x + \\delta x) = b + \\delta b$ we use $Ax = b$ and solve for $\\delta x$ to get $ A\\delta x = \\delta b $.\n",
    "Since $A$ is invertible, we have $\\delta x = A^{-1}\\delta b$. Taking norms to both sides yields $\\Vert \\delta x \\Vert =  \\Vert A^{-1}\\delta b \\Vert$. Using the submultiplicative property, we get $\\Vert \\delta x \\Vert \\leq  \\Vert A^{-1}\\Vert  \\Vert \\delta b \\Vert$. Since $A$ is nonsingular and $b \\neq 0$, we have that $\\Vert x \\Vert \\neq 0$. We can multiply and divide by $\\Vert x \\Vert$ to get $\\frac{\\Vert \\delta x \\Vert}{\\Vert x \\Vert} \\leq  \\Vert A^{-1}\\Vert  \\frac{\\Vert \\delta b \\Vert}{\\Vert x \\Vert}$. Using $\\Vert b \\Vert \\leq \\Vert A \\Vert \\Vert x \\Vert$ and $\\Vert A \\Vert \\neq 0$ (since $A$ is nonsingular) we have $\\frac{\\Vert \\delta x \\Vert}{\\Vert x \\Vert} \\leq  \\Vert A^{-1}\\Vert  \\frac{\\Vert \\delta b \\Vert}{\\Vert b \\Vert / \\Vert A \\Vert }$. The result follows after substitution of $\\kappa(A) = \\Vert A \\Vert \\Vert A^{-1} \\Vert$.\n"
   ]
  },
  {
   "cell_type": "markdown",
   "metadata": {},
   "source": [
    "# Q3\n",
    "The book states without proof that if $\\Vert \\delta A \\Vert < \\frac{1}{\\Vert A^{-1}\\Vert}$ then the bound on the relative error can be written as\n",
    "$$ \n",
    " \\frac{\\Vert x - \\hat{x} \\Vert}{\\Vert x \\Vert} \\leq \\frac{\\kappa(A)}{1 - \\kappa(A)\\frac{\\Vert \\delta A\\Vert}{\\Vert A\\Vert}} \n",
    " \\left(\\frac{\\Vert \\delta b \\Vert}{\\Vert b\\Vert} + \\frac{\\Vert\\delta A \\Vert}{\\Vert A\\Vert} \\right). \n",
    "$$\n",
    "\n",
    "In what follows, let $A$, $B$, and $\\delta A$ be real $n\\times n$ matrices. \n",
    "\n",
    "We saw an incomplete proof in lecture that assumed $A + \\delta A$ is nonsingular. In the following, you will show that if $\\Vert \\delta A \\Vert < \\frac{1}{\\Vert A^{-1}\\Vert}$ then $A + \\delta A$ is nonsingular.\n",
    "\n",
    "## A\n",
    "Show that if the spectral radius $\\rho(A) < 1$ then the matrix $A - I$ is nonsingular. **Hint: use the definition of the spectral radius and the characteristic equation, $\\det(A-\\lambda I) = 0$, for the eigenvalues of $A$.**\n",
    "\n",
    "---------------------------------------------------------------------------------\n",
    "\n",
    "If $\\rho(A) < 1$ then by definition all of the eigenvalues $\\vert \\lambda \\vert < 1$, which means that there are no eigenvalues on the unit circle in the complex plane. It follows that $\\det(A \\pm I) \\neq 0$. Hence $A - I$ is nonsingular.\n",
    "\n",
    "## B\n",
    "Show that if $A$ is nonsingular and $\\Vert A - B\\Vert  < \\frac{1}{\\Vert A^{-1} \\Vert}$ then $B$ is nonsingular. **Hint: use $B = A[I - A^{-1}(A - B)]$ and part A**\n",
    "\n",
    "---------------------------------------------------------------------------------\n",
    "\n",
    "We can write $B = A[I - A^{-1}(A - B)]$. It follows that since $A$ is nonsingular then $B$ is nonsingular if $I- A^{-1}(A - B)$ is nonsingular. From part A, we know that $I- A^{-1}(A - B)$ is nonsingular if $\\rho( A^{-1}(A - B)) < 1$. To show this we use the fact that for any square matrix $M$ that $\\rho(M) \\leq \\Vert M\\Vert$, and we use the assumption $\\Vert A - B\\Vert  < \\frac{1}{\\Vert A^{-1} \\Vert}$. We have that\n",
    "$$\\rho(A^{-1}(A - B)) \\leq \\Vert A^{-1}(A - B) \\Vert \\leq \\Vert A^{-1}\\Vert \\Vert (A - B) \\Vert  < 1.$$\n",
    "\n",
    "## C\n",
    "Show that if $A$ is nonsingular and $\\Vert \\delta A\\Vert  < \\frac{1}{\\Vert A^{-1} \\Vert}$, then $A + \\delta A$ is nonsingular.\n",
    "\n",
    "---------------------------------------------------------------------------------\n",
    "\n",
    "Let $B = A + \\delta A$ and apply part B."
   ]
  },
  {
   "cell_type": "markdown",
   "metadata": {},
   "source": [
    "# Q4\n",
    "Tridiagonal matrices appear often. Due to their simple structure, it is possible to significantly speed up the computation of the LU decomposition.\n",
    "\n",
    "## A\n",
    "Implement Gaussian elimination for computing $A = LU$ of the form\n",
    "\\begin{equation}\n",
    "\\begin{bmatrix}\n",
    "a_1 & c_1 & & & & \\\\\n",
    "b_2 & a_2 & c_2& & & \\\\\n",
    " & b_3& a_3& c_3& & \\\\\n",
    " & &\\ddots & \\ddots & \\ddots & \\\\\n",
    " & & & \\ddots & \\ddots& c_{n-1}\\\\\n",
    " & & & &b_n & a_n\n",
    "\\end{bmatrix} =\n",
    "\\begin{bmatrix}\n",
    "1 & & & & & \\\\\n",
    "l_2 & 1& & & & \\\\\n",
    " & l_3 & 1& & & \\\\\n",
    " & & \\ddots & \\ddots & & \\\\\n",
    " & & & \\ddots& \\ddots& \\\\\n",
    " & & & & l_n & 1\n",
    "\\end{bmatrix}\n",
    "\\begin{bmatrix}\n",
    " u_1& c_1& & & & \\\\\n",
    " & u_2& c_2 & & & \\\\\n",
    " & & u_3& c_3 & & \\\\\n",
    " & & & \\ddots& \\ddots& \\\\\n",
    " & & & & \\ddots& c_{n-1}\\\\\n",
    " & & & & & u_n\n",
    "\\end{bmatrix}\n",
    "\\end{equation}\n",
    "Your function should take three input arguments: the vectors `a`, `b`, and `c` containing the diagonals of the matrix $A$. It should return two vectors `l` and `u` containing the elements from the above $LU$ decomposition (ie the vectors $l$ and $u$ have entries $l_i$ and $u_i$)."
   ]
  },
  {
   "cell_type": "markdown",
   "metadata": {},
   "source": [
    "### Solution\n",
    "We usually index vectors and matrices in linear algebra starting with the value 1. For example, the first value of a vector $x$ is $x_1$. In Python and most programming languages, indexing of array starts with the value 0. For example, the first value stored in an array `x` is `x[0]`. For this reason, our formulas and our code will use different indices. Let $i$ be the index of the vector $x$, and let `k` be the index for the array `x`. We set $i = $ `k+1`. Then $x_i = $ `x[i-1]` and `x[k]` $=x_{k+1}$. \n",
    "\n",
    "### Version 1\n",
    "In this version, I pad the arrays `b` and `l` with a leading `nan` so that the indices line up. This way, $b_2$ corresponds to `b[1]` and $l_2$ corresponds to `l[1]`. Note that this is consistent with the other vectors; i.e., $a_1$ corresponds to `a[0]`."
   ]
  },
  {
   "cell_type": "code",
   "execution_count": 2,
   "metadata": {},
   "outputs": [],
   "source": [
    "def tridiag_solve_version1(a, b, c):\n",
    "    n = a.size\n",
    "    u = zeros(n)\n",
    "    u[0] = a[0]\n",
    "    l = zeros(n)\n",
    "    l[0] = nan\n",
    "    for i in arange(2, n+1):\n",
    "        k = i-1\n",
    "        l[k] = b[k]/u[k-1]\n",
    "        u[k] = a[k] - l[k]*c[k-1]\n",
    "    return l, u"
   ]
  },
  {
   "cell_type": "markdown",
   "metadata": {},
   "source": [
    "### Version 2\n",
    "In this version, I do not pad the arrays `b` and `l` with a leading entry to align the indices. Instead, I adjust the formulas so that $u_2$ and $l_2$ correspond to `u[0]` and `l[0]`, respectively. In other words, there is a different relationship between $i$ and the index for `u` and `l`. Let `p` $=i-2$ index these vectors, but not the others (for the others we have `k` $=i-1$)."
   ]
  },
  {
   "cell_type": "code",
   "execution_count": 3,
   "metadata": {},
   "outputs": [],
   "source": [
    "def tridiag_solve_version2(a, b, c):\n",
    "    n = a.size\n",
    "    u = zeros(n)\n",
    "    u[0] = a[0]\n",
    "    l = zeros(n-1)\n",
    "    for i in arange(2, n+1):\n",
    "        k = i-1\n",
    "        p = i-2\n",
    "        l[p] = b[p]/u[k-1]\n",
    "        u[k] = a[k] - l[p]*c[k-1]\n",
    "    return l, u"
   ]
  },
  {
   "cell_type": "markdown",
   "metadata": {},
   "source": [
    "## B\n",
    "Use your function from part A to compute the LU decomposition of \n",
    "$$ \n",
    "A = \n",
    "\\begin{bmatrix}\n",
    "1 & -\\frac{1}{2} & & & & \\\\\n",
    "-\\frac{2}{2} & 2& -\\frac{2}{2}& & & \\\\\n",
    " & -\\frac{3}{2}& 3& -\\frac{3}{2}& & \\\\\n",
    " & & \\ddots & \\ddots& \\ddots& \\\\\n",
    " & & & \\ddots& \\ddots& -\\frac{10-1}{2} \\\\\n",
    " & & & & -\\frac{10}{2}& 10\n",
    "\\end{bmatrix}.\n",
    "$$\n",
    "Include a print out of the elements of `l` and `u` rounded to three decimal places."
   ]
  },
  {
   "cell_type": "markdown",
   "metadata": {},
   "source": [
    "### Solution\n",
    "### Version 1\n",
    "In this version, I pad the arrays `b` and `l` with a leading `nan` so that the indices line up. This way, $b_2$ corresponds to `b[1]` and $l_2$ corresponds to `l[1]`. Note that this is consistent with the other vectors; i.e., $a_1$ corresponds to `a[0]`. "
   ]
  },
  {
   "cell_type": "code",
   "execution_count": 4,
   "metadata": {},
   "outputs": [
    {
     "name": "stdout",
     "output_type": "stream",
     "text": [
      "[nan -1. -1. -1. -1. -1. -1. -1. -1. -1.]\n",
      "[1.  1.5 2.  2.5 3.  3.5 4.  4.5 5.  5.5]\n"
     ]
    }
   ],
   "source": [
    "n = 10\n",
    "a = arange(n) + 1.\n",
    "b = -(arange(n)-1 + 2.)/2.\n",
    "b[0] = nan\n",
    "c = -(arange(n-1) + 1.)/2.\n",
    "\n",
    "\n",
    "l, u = tridiag_solve_version1(a, b, c)\n",
    "\n",
    "print(around(l, 3))\n",
    "print(around(u, 3))"
   ]
  },
  {
   "cell_type": "code",
   "execution_count": 5,
   "metadata": {},
   "outputs": [
    {
     "name": "stdout",
     "output_type": "stream",
     "text": [
      "[ 2.  3.  4.  5.  6.  7.  8.  9. 10.]\n",
      "[-1.  -1.5 -2.  -2.5 -3.  -3.5 -4.  -4.5 -5. ]\n"
     ]
    }
   ],
   "source": [
    "## check \n",
    "a_check = c*l[1:] + u[1:]\n",
    "## output should be 2, 3, 4, ..., 10\n",
    "print(around(a_check, 3))\n",
    "\n",
    "b_check = l[1:]*u[:-1]\n",
    "## output should be -1, -1.5, -2.5, ..., -5\n",
    "print(around(b_check, 3))"
   ]
  },
  {
   "cell_type": "code",
   "execution_count": 6,
   "metadata": {},
   "outputs": [
    {
     "name": "stdout",
     "output_type": "stream",
     "text": [
      "[[ 1.  0.  0.  0.  0.  0.  0.  0.  0.  0.]\n",
      " [-1.  1.  0.  0.  0.  0.  0.  0.  0.  0.]\n",
      " [ 0. -1.  1.  0.  0.  0.  0.  0.  0.  0.]\n",
      " [ 0.  0. -1.  1.  0.  0.  0.  0.  0.  0.]\n",
      " [ 0.  0.  0. -1.  1.  0.  0.  0.  0.  0.]\n",
      " [ 0.  0.  0.  0. -1.  1.  0.  0.  0.  0.]\n",
      " [ 0.  0.  0.  0.  0. -1.  1.  0.  0.  0.]\n",
      " [ 0.  0.  0.  0.  0.  0. -1.  1.  0.  0.]\n",
      " [ 0.  0.  0.  0.  0.  0.  0. -1.  1.  0.]\n",
      " [ 0.  0.  0.  0.  0.  0.  0.  0. -1.  1.]]\n",
      "[[ 1.  -0.5  0.   0.   0.   0.   0.   0.   0.   0. ]\n",
      " [ 0.   1.5 -1.   0.   0.   0.   0.   0.   0.   0. ]\n",
      " [ 0.   0.   2.  -1.5  0.   0.   0.   0.   0.   0. ]\n",
      " [ 0.   0.   0.   2.5 -2.   0.   0.   0.   0.   0. ]\n",
      " [ 0.   0.   0.   0.   3.  -2.5  0.   0.   0.   0. ]\n",
      " [ 0.   0.   0.   0.   0.   3.5 -3.   0.   0.   0. ]\n",
      " [ 0.   0.   0.   0.   0.   0.   4.  -3.5  0.   0. ]\n",
      " [ 0.   0.   0.   0.   0.   0.   0.   4.5 -4.   0. ]\n",
      " [ 0.   0.   0.   0.   0.   0.   0.   0.   5.  -4.5]\n",
      " [ 0.   0.   0.   0.   0.   0.   0.   0.   0.   5.5]]\n",
      "0.0\n"
     ]
    }
   ],
   "source": [
    "## check 2\n",
    "from scipy.linalg import lu as lu\n",
    "A = diag(b[1:], -1) + diag(a) + diag(c, 1)\n",
    "_, L, U = lu(A)\n",
    "print(around(L, 2))\n",
    "print(around(U, 2))\n",
    "print(norm(L@U - A, 2))"
   ]
  },
  {
   "cell_type": "markdown",
   "metadata": {},
   "source": [
    "### Version 2\n",
    "In this version, I do not pad the arrays `b` and `l` with a leading entry to align the indices. Instead, I adjust the formulas so that $u_2$ and $l_2$ correspond to `u[0]` and `l[0]`, respectively. In other words, there is a different relationship between $i$ and the index for `u` and `l`. Let `p` $=i-2$ index these vectors, but not the others (for the others we have `k` $=i-1$)."
   ]
  },
  {
   "cell_type": "code",
   "execution_count": 7,
   "metadata": {},
   "outputs": [
    {
     "name": "stdout",
     "output_type": "stream",
     "text": [
      "[-1. -1. -1. -1. -1. -1. -1. -1. -1.]\n",
      "[1.  1.5 2.  2.5 3.  3.5 4.  4.5 5.  5.5]\n"
     ]
    }
   ],
   "source": [
    "n = 10\n",
    "a = arange(n) + 1.\n",
    "b = -(arange(n-1) + 2.)/2.\n",
    "c = -(arange(n-1) + 1.)/2.\n",
    "\n",
    "\n",
    "l, u = tridiag_solve_version2(a, b, c)\n",
    "\n",
    "print(around(l, 3))\n",
    "print(around(u, 3))"
   ]
  },
  {
   "cell_type": "code",
   "execution_count": 8,
   "metadata": {},
   "outputs": [
    {
     "name": "stdout",
     "output_type": "stream",
     "text": [
      "[ 2.  3.  4.  5.  6.  7.  8.  9. 10.]\n",
      "[-1.  -1.5 -2.  -2.5 -3.  -3.5 -4.  -4.5 -5. ]\n"
     ]
    }
   ],
   "source": [
    "## check \n",
    "a_check = c*l + u[1:]\n",
    "## output should be 2, 3, 4, ..., 10\n",
    "print(around(a_check, 3))\n",
    "\n",
    "b_check = l*u[:-1]\n",
    "## output should be -1, -1.5, -2.5, ..., -5\n",
    "print(around(b_check, 3))"
   ]
  },
  {
   "cell_type": "code",
   "execution_count": 9,
   "metadata": {},
   "outputs": [
    {
     "name": "stdout",
     "output_type": "stream",
     "text": [
      "[[ 1.  0.  0.  0.  0.  0.  0.  0.  0.  0.]\n",
      " [-1.  1.  0.  0.  0.  0.  0.  0.  0.  0.]\n",
      " [ 0. -1.  1.  0.  0.  0.  0.  0.  0.  0.]\n",
      " [ 0.  0. -1.  1.  0.  0.  0.  0.  0.  0.]\n",
      " [ 0.  0.  0. -1.  1.  0.  0.  0.  0.  0.]\n",
      " [ 0.  0.  0.  0. -1.  1.  0.  0.  0.  0.]\n",
      " [ 0.  0.  0.  0.  0. -1.  1.  0.  0.  0.]\n",
      " [ 0.  0.  0.  0.  0.  0. -1.  1.  0.  0.]\n",
      " [ 0.  0.  0.  0.  0.  0.  0. -1.  1.  0.]\n",
      " [ 0.  0.  0.  0.  0.  0.  0.  0. -1.  1.]]\n",
      "[[ 1.  -0.5  0.   0.   0.   0.   0.   0.   0.   0. ]\n",
      " [ 0.   1.5 -1.   0.   0.   0.   0.   0.   0.   0. ]\n",
      " [ 0.   0.   2.  -1.5  0.   0.   0.   0.   0.   0. ]\n",
      " [ 0.   0.   0.   2.5 -2.   0.   0.   0.   0.   0. ]\n",
      " [ 0.   0.   0.   0.   3.  -2.5  0.   0.   0.   0. ]\n",
      " [ 0.   0.   0.   0.   0.   3.5 -3.   0.   0.   0. ]\n",
      " [ 0.   0.   0.   0.   0.   0.   4.  -3.5  0.   0. ]\n",
      " [ 0.   0.   0.   0.   0.   0.   0.   4.5 -4.   0. ]\n",
      " [ 0.   0.   0.   0.   0.   0.   0.   0.   5.  -4.5]\n",
      " [ 0.   0.   0.   0.   0.   0.   0.   0.   0.   5.5]]\n",
      "0.0\n"
     ]
    }
   ],
   "source": [
    "## check 2\n",
    "from scipy.linalg import lu as lu\n",
    "A = diag(b, -1) + diag(a) + diag(c, 1)\n",
    "_, L, U = lu(A)\n",
    "print(around(L, 2))\n",
    "print(around(U, 2))\n",
    "print(norm(L@U - A, 2))"
   ]
  },
  {
   "cell_type": "markdown",
   "metadata": {},
   "source": [
    "\n",
    "## C\n",
    "Determine the total number of floating point operations (i.e., the combined number of additions, subtractions, multiplications, and divisions) required for computing the LU decomposition of an $n\\times n$ matrix with your method.\n",
    "\n",
    "-------------------------------\n",
    "\n",
    "There are $n-1$ steps in the loop (the first step is just $l_i = a_i$) and each loop has three operations. This yields $3n - 3$ total operations."
   ]
  },
  {
   "cell_type": "code",
   "execution_count": null,
   "metadata": {},
   "outputs": [],
   "source": []
  }
 ],
 "metadata": {
  "kernelspec": {
   "display_name": "Python 3",
   "language": "python",
   "name": "python3"
  },
  "language_info": {
   "codemirror_mode": {
    "name": "ipython",
    "version": 3
   },
   "file_extension": ".py",
   "mimetype": "text/x-python",
   "name": "python",
   "nbconvert_exporter": "python",
   "pygments_lexer": "ipython3",
   "version": "3.7.10"
  }
 },
 "nbformat": 4,
 "nbformat_minor": 2
}
