{
 "cells": [
  {
   "cell_type": "code",
   "execution_count": 1,
   "metadata": {},
   "outputs": [
    {
     "name": "stdout",
     "output_type": "stream",
     "text": [
      "Populating the interactive namespace from numpy and matplotlib\n"
     ]
    }
   ],
   "source": [
    "%pylab inline\n",
    "%config InlineBackend.figure_format = 'retina'\n",
    "from ipywidgets import interact"
   ]
  },
  {
   "cell_type": "markdown",
   "metadata": {},
   "source": [
    "# Test matrix"
   ]
  },
  {
   "cell_type": "code",
   "execution_count": 77,
   "metadata": {},
   "outputs": [
    {
     "data": {
      "text/plain": [
       "array([[ 0.042, -0.037,  0.154, -1.369, -0.382,  1.043, -0.018],\n",
       "       [ 0.625, -0.899,  0.572,  0.763, -0.285, -0.199,  0.38 ],\n",
       "       [-0.476, -0.406, -0.67 ,  0.165, -0.268, -0.662,  0.536],\n",
       "       [-0.302,  1.098,  0.151,  1.194,  1.169, -0.985,  1.471],\n",
       "       [ 0.238,  0.433,  0.684,  0.93 , -2.683, -1.78 , -0.681],\n",
       "       [ 0.59 , -2.474,  0.143, -2.768,  0.973,  0.651, -0.338],\n",
       "       [-0.647, -0.206, -2.09 , -0.12 ,  0.939, -1.512,  0.24 ]])"
      ]
     },
     "execution_count": 77,
     "metadata": {},
     "output_type": "execute_result"
    }
   ],
   "source": [
    "n = 7\n",
    "A = normal(0, 1, (n, n))\n",
    "around(A, 3)"
   ]
  },
  {
   "cell_type": "markdown",
   "metadata": {},
   "source": [
    "# SVD"
   ]
  },
  {
   "cell_type": "code",
   "execution_count": 78,
   "metadata": {},
   "outputs": [
    {
     "name": "stdout",
     "output_type": "stream",
     "text": [
      "5.141463243850217 4.9089336465493725\n",
      "3.598783394261357 3.6719752680337456\n",
      "2.3625407852062694 2.71470863207237\n",
      "1.4026110221146302 1.9011263194237282\n",
      "0.9074592629144854 1.069502391539236\n",
      "0.28260687489302216 0.8623315302785243\n",
      "1.48074467654008e-14 0.2826068748930217\n"
     ]
    }
   ],
   "source": [
    "U, sigma, VT = svd(A)\n",
    "Ak = zeros([n, n])\n",
    "for j in arange(n):\n",
    "    uj = U[:, j]\n",
    "    vj = VT[j, :]\n",
    "    Ak += sigma[j]*uj[:, None]@vj[:, None].T\n",
    "    print(norm(A - Ak, 'fro'), norm(sigma[j]*uj[:, None]@vj[:, None].T, 'fro'))"
   ]
  },
  {
   "cell_type": "markdown",
   "metadata": {},
   "source": [
    "# QR"
   ]
  },
  {
   "cell_type": "code",
   "execution_count": 79,
   "metadata": {},
   "outputs": [
    {
     "name": "stdout",
     "output_type": "stream",
     "text": [
      "6.269923656492829 3.349676279260266\n",
      "4.822693190759097 4.006691034513924\n",
      "4.639897435307547 1.315188732471734\n",
      "3.6432107761208012 2.8732670343932223\n",
      "1.8963924009516753 3.1107363470495977\n",
      "0.8493396297731177 1.695560772040956\n",
      "2.9373412396009384e-15 0.8493396297731175\n"
     ]
    }
   ],
   "source": [
    "\n",
    "Q, R = qr(A)\n",
    "Ak = zeros([n, n])\n",
    "for j in arange(n):\n",
    "    qj = Q[:, j]\n",
    "    rj = R[j, :]\n",
    "    Ak += qj[:, None]@rj[:, None].T\n",
    "    print(norm(A - Ak, 'fro'), norm(qj[:, None]@rj[:, None].T, 'fro'))"
   ]
  },
  {
   "cell_type": "markdown",
   "metadata": {},
   "source": [
    "# Cholesky"
   ]
  },
  {
   "cell_type": "code",
   "execution_count": 80,
   "metadata": {},
   "outputs": [
    {
     "name": "stdout",
     "output_type": "stream",
     "text": [
      "24.570371331346216 11.220331175838894\n",
      "14.70000698039827 16.053573046054254\n",
      "14.257554298205397 1.7297214020206009\n",
      "10.345457340959975 8.255663450930825\n",
      "2.986200997280179 9.67668062085547\n",
      "0.7213778067031367 2.8749263316841236\n",
      "2.5182736389992033e-15 0.7213778067031361\n"
     ]
    }
   ],
   "source": [
    "R = cholesky(A.T@A)\n",
    "Ak = zeros([n, n])\n",
    "for j in arange(n):\n",
    "    rj = R[:, j]\n",
    "    Ak += rj[:, None]@rj[:, None].T\n",
    "    print(norm(A.T@A - Ak, 'fro'), norm(rj[:, None]@rj[:, None].T, 'fro'))"
   ]
  },
  {
   "cell_type": "markdown",
   "metadata": {},
   "source": [
    "# Example: Gaussian elimination with full pivoting\n",
    "Full pivoting is not used much in practice for computing a generalized LU factorization because it is computationally expensive with little improvement in stability (Trefethen and Bau). It is, however, the basis for the 2D Chebfun package."
   ]
  },
  {
   "cell_type": "code",
   "execution_count": 83,
   "metadata": {},
   "outputs": [
    {
     "data": {
      "text/plain": [
       "array([[0.52046547, 0.23309428, 0.34338846],\n",
       "       [0.25188255, 0.21066712, 0.76758557],\n",
       "       [0.83496378, 0.11747584, 0.01051691]])"
      ]
     },
     "execution_count": 83,
     "metadata": {},
     "output_type": "execute_result"
    }
   ],
   "source": [
    "A = rand(3, 3)\n",
    "A"
   ]
  },
  {
   "cell_type": "code",
   "execution_count": 84,
   "metadata": {},
   "outputs": [
    {
     "data": {
      "text/plain": [
       "(2, 0)"
      ]
     },
     "execution_count": 84,
     "metadata": {},
     "output_type": "execute_result"
    }
   ],
   "source": [
    "E0 = A\n",
    "i1, j1 = unravel_index(argmax(absolute(E0)), A.shape)\n",
    "i1, j1"
   ]
  },
  {
   "cell_type": "code",
   "execution_count": 85,
   "metadata": {},
   "outputs": [
    {
     "data": {
      "text/plain": [
       "array([[0.52046547, 0.07322727, 0.0065556 ],\n",
       "       [0.25188255, 0.0354388 , 0.00317262],\n",
       "       [0.83496378, 0.11747584, 0.01051691]])"
      ]
     },
     "execution_count": 85,
     "metadata": {},
     "output_type": "execute_result"
    }
   ],
   "source": [
    "u1 = E0[:, j1]\n",
    "v1 = E0[i1, :].T\n",
    "A1 = u1[:, None]@v1[:, None].T/E0[i1, j1]\n",
    "A1"
   ]
  },
  {
   "cell_type": "code",
   "execution_count": 86,
   "metadata": {},
   "outputs": [
    {
     "data": {
      "text/plain": [
       "array([[0.00000000e+00, 1.59867015e-01, 3.36832862e-01],\n",
       "       [0.00000000e+00, 1.75228316e-01, 7.64412949e-01],\n",
       "       [0.00000000e+00, 1.38777878e-17, 0.00000000e+00]])"
      ]
     },
     "execution_count": 86,
     "metadata": {},
     "output_type": "execute_result"
    }
   ],
   "source": [
    "E1 = E0 - A1\n",
    "E1"
   ]
  },
  {
   "cell_type": "code",
   "execution_count": 87,
   "metadata": {},
   "outputs": [
    {
     "data": {
      "text/plain": [
       "(1, 2)"
      ]
     },
     "execution_count": 87,
     "metadata": {},
     "output_type": "execute_result"
    }
   ],
   "source": [
    "i2, j2 = unravel_index(argmax(absolute(E1)), A.shape)\n",
    "i2, j2"
   ]
  },
  {
   "cell_type": "code",
   "execution_count": 88,
   "metadata": {},
   "outputs": [
    {
     "data": {
      "text/plain": [
       "array([[0.        , 0.07721305, 0.33683286],\n",
       "       [0.        , 0.17522832, 0.76441295],\n",
       "       [0.        , 0.        , 0.        ]])"
      ]
     },
     "execution_count": 88,
     "metadata": {},
     "output_type": "execute_result"
    }
   ],
   "source": [
    "u2 = E1[:, j2]\n",
    "v2 = E1[i2, :].T\n",
    "A2 = u2[:, None]@v2[:, None].T/E1[i2, j2]\n",
    "A2"
   ]
  },
  {
   "cell_type": "code",
   "execution_count": 89,
   "metadata": {},
   "outputs": [
    {
     "data": {
      "text/plain": [
       "array([[0.52046547, 0.15044032, 0.34338846],\n",
       "       [0.25188255, 0.21066712, 0.76758557],\n",
       "       [0.83496378, 0.11747584, 0.01051691]])"
      ]
     },
     "execution_count": 89,
     "metadata": {},
     "output_type": "execute_result"
    }
   ],
   "source": [
    "A1 + A2"
   ]
  },
  {
   "cell_type": "code",
   "execution_count": 90,
   "metadata": {},
   "outputs": [
    {
     "data": {
      "text/plain": [
       "array([[0.00000000e+00, 8.26539645e-02, 0.00000000e+00],\n",
       "       [0.00000000e+00, 2.77555756e-17, 0.00000000e+00],\n",
       "       [0.00000000e+00, 1.38777878e-17, 0.00000000e+00]])"
      ]
     },
     "execution_count": 90,
     "metadata": {},
     "output_type": "execute_result"
    }
   ],
   "source": [
    "E2 = E1 - A2\n",
    "E2"
   ]
  },
  {
   "cell_type": "code",
   "execution_count": 91,
   "metadata": {},
   "outputs": [
    {
     "data": {
      "text/plain": [
       "(0, 1)"
      ]
     },
     "execution_count": 91,
     "metadata": {},
     "output_type": "execute_result"
    }
   ],
   "source": [
    "i3, j3 = unravel_index(argmax(absolute(E2)), A.shape)\n",
    "i3, j3"
   ]
  },
  {
   "cell_type": "code",
   "execution_count": 92,
   "metadata": {},
   "outputs": [
    {
     "data": {
      "text/plain": [
       "array([[0.00000000e+00, 8.26539645e-02, 0.00000000e+00],\n",
       "       [0.00000000e+00, 2.77555756e-17, 0.00000000e+00],\n",
       "       [0.00000000e+00, 1.38777878e-17, 0.00000000e+00]])"
      ]
     },
     "execution_count": 92,
     "metadata": {},
     "output_type": "execute_result"
    }
   ],
   "source": [
    "u3 = E2[:, j3]\n",
    "v3 = E2[i3, :].T\n",
    "A3 = u3[:, None]@v3[:, None].T/E2[i3, j3]\n",
    "A3"
   ]
  },
  {
   "cell_type": "code",
   "execution_count": 93,
   "metadata": {},
   "outputs": [
    {
     "data": {
      "text/plain": [
       "array([[0., 0., 0.],\n",
       "       [0., 0., 0.],\n",
       "       [0., 0., 0.]])"
      ]
     },
     "execution_count": 93,
     "metadata": {},
     "output_type": "execute_result"
    }
   ],
   "source": [
    "E2 - A3"
   ]
  },
  {
   "cell_type": "markdown",
   "metadata": {},
   "source": [
    "## The vectors and pivots can be used to construct the L,U,P, and Q matrices\n",
    "$P$ and $Q$ are permutation matrices\n",
    "$$ PAQ = LU$$\n",
    "### Notice the pattern of zero entries in the vectors seen below"
   ]
  },
  {
   "cell_type": "code",
   "execution_count": 94,
   "metadata": {},
   "outputs": [
    {
     "name": "stdout",
     "output_type": "stream",
     "text": [
      "[0.52046547 0.25188255 0.83496378]\n",
      "[0.33683286 0.76441295 0.        ]\n",
      "[8.26539645e-02 2.77555756e-17 1.38777878e-17]\n"
     ]
    }
   ],
   "source": [
    "print(u1)\n",
    "print(u2)\n",
    "print(u3)"
   ]
  },
  {
   "cell_type": "code",
   "execution_count": 95,
   "metadata": {},
   "outputs": [
    {
     "name": "stdout",
     "output_type": "stream",
     "text": [
      "[0.83496378 0.11747584 0.01051691]\n",
      "[0.         0.17522832 0.76441295]\n",
      "[0.         0.08265396 0.        ]\n"
     ]
    }
   ],
   "source": [
    "print(v1)\n",
    "print(v2)\n",
    "print(v3)"
   ]
  },
  {
   "cell_type": "code",
   "execution_count": null,
   "metadata": {},
   "outputs": [],
   "source": []
  },
  {
   "cell_type": "code",
   "execution_count": 96,
   "metadata": {},
   "outputs": [
    {
     "name": "stdout",
     "output_type": "stream",
     "text": [
      "1.0257075599381273\n",
      "0.8570007883352344\n",
      "0.08265396450993387\n"
     ]
    }
   ],
   "source": [
    "print(norm(A1, 'fro'))\n",
    "print(norm(A2, 'fro'))\n",
    "print(norm(A3, 'fro'))"
   ]
  },
  {
   "cell_type": "code",
   "execution_count": null,
   "metadata": {},
   "outputs": [],
   "source": []
  }
 ],
 "metadata": {
  "kernelspec": {
   "display_name": "Python 3",
   "language": "python",
   "name": "python3"
  },
  "language_info": {
   "codemirror_mode": {
    "name": "ipython",
    "version": 3
   },
   "file_extension": ".py",
   "mimetype": "text/x-python",
   "name": "python",
   "nbconvert_exporter": "python",
   "pygments_lexer": "ipython3",
   "version": "3.7.3"
  }
 },
 "nbformat": 4,
 "nbformat_minor": 4
}
