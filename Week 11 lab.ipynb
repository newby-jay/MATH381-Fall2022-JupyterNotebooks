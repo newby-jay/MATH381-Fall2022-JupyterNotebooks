{
  "nbformat": 4,
  "nbformat_minor": 0,
  "metadata": {
    "colab": {
      "provenance": []
    },
    "kernelspec": {
      "name": "python3",
      "display_name": "Python 3"
    },
    "language_info": {
      "name": "python"
    }
  },
  "cells": [
    {
      "cell_type": "code",
      "execution_count": null,
      "metadata": {
        "id": "gnjZ33lc_yQl"
      },
      "outputs": [],
      "source": []
    },
    {
      "cell_type": "markdown",
      "source": [
        "# PT 1\n",
        "\n",
        "$A = U \\Lambda U^{-1}$\n",
        "\n",
        "This component is what we call Eigendecomposition. Matrix $U$ contains eigenvectors and $\\Lambda$ has eigenvalues."
      ],
      "metadata": {
        "id": "xPNpNy8I_4b5"
      }
    },
    {
      "cell_type": "markdown",
      "source": [
        "# PT 2\n",
        "\n",
        "Apply a Gram-Schmidt process to the columns of matrix $A$\n",
        "\n",
        "In particular, let\n",
        "\n",
        "$A=\\left[a_1\\left|a_2\\right| \\cdots \\mid a_n\\right]$\n",
        "\n",
        "Let $\\|\\cdot\\|$ denote the $L 2$ norm.\n",
        "The Gram-Schmidt algorithm repeatedly combines the following two steps in a particular order\n",
        "- normalize a vector to have unit norm\n",
        "- orthogonalize the next vector\n",
        "To begin, we set $u_1=a_1$ and then normalize:\n",
        "$$\n",
        "u_1=a_1, \\quad e_1=\\frac{u_1}{\\left\\|u_1\\right\\|}\n",
        "$$\n",
        "We orgonalize first to compute $u_2$ and then normalize to create $e_2$ :\n",
        "$$\n",
        "u_2=a_2-\\left(a_2 \\cdot e_1\\right) e_1, \\quad e_2=\\frac{u_2}{\\left\\|u_2\\right\\|}\n",
        "$$\n",
        "Can verify at home that $e_1$ is orthogonal to $e_2$ by checking that $e_1 \\cdot e_2=0$.\n",
        "The Gram-Schmidt procedure continues iterating.\n",
        "Thus, for $k=2, \\ldots, n-1$ we construct\n",
        "$$\n",
        "u_{k+1}=a_{k+1}-\\left(a_{k+1} \\cdot e_1\\right) e_1-\\cdots-\\left(a_{k+1} \\cdot e_k\\right) e_k, \\quad e_{k+1}=\\frac{u_{k+1}}{\\left\\|u_{k+1}\\right\\|}\n",
        "$$\n",
        "\n",
        "Here $\\left(a_j \\cdot e_i\\right)$ can be interpreted as the linear least squares regression coefficient of $a_j$ on $e_i$\n",
        "- it is the inner product of $a_j$ and $e_i$ divided by the inner product of $e_i$ where $e_i \\cdot e_i=1$, as normalization has assured us.\n",
        "- this regression coefficient has an interpretation as being a covariance divided by a variance\n",
        "It can be verified that\n",
        "Thus, we have constructed the decomposision\n",
        "$$\n",
        "A=Q R\n",
        "$$\n",
        "\n",
        "where\n",
        "$$\n",
        "Q=\\left[a_1\\left|a_2\\right| \\cdots \\mid a_n\\right]=\\left[e_1\\left|e_2\\right| \\cdots \\mid e_n\\right]\n",
        "$$\n",
        "and\n",
        "$$\n",
        "R=\\left[\\begin{array}{cccc}\n",
        "a_1 \\cdot e_1 & a_2 \\cdot e_1 & \\cdots & a_n \\cdot e_1 \\\\\n",
        "0 & a_2 \\cdot e_2 & \\cdots & a_n \\cdot e_2 \\\\\n",
        "\\vdots & \\vdots & \\ddots & \\vdots \\\\\n",
        "0 & 0 & \\cdots & a_n \\cdot e_n\n",
        "\\end{array}\\right]\n",
        "$$\n",
        "\n",
        "# Non square case\n",
        "\n",
        "Now suppose that $A$ is an $n \\times m$ matrix where $m>n$.\n",
        "Then a $Q R$ decomposition is\n",
        "$$\n",
        "A=\\left[a_1\\left|a_2\\right| \\cdots \\mid a_m\\right]=\\left[e_1\\left|e_2\\right| \\cdots \\mid e_n\\right]\\left[\\begin{array}{ccccccc}\n",
        "a_1 \\cdot e_1 & a_2 \\cdot e_1 & \\cdots & a_n \\cdot e_1 & a_{n+1} \\cdot e_1 & \\cdots & a_m \\cdot e_1 \\\\\n",
        "0 & a_2 \\cdot e_2 & \\cdots & a_n \\cdot e_2 & a_{n+1} \\cdot e_2 & \\cdots & a_m \\cdot e_2 \\\\\n",
        "\\vdots & \\vdots & \\ddots & \\vdots & \\vdots & \\ddots & \\vdots \\\\\n",
        "0 & 0 & \\cdots & a_n \\cdot e_n & a_{n+1} \\cdot e_n & \\cdots & a_m \\cdot e_n\n",
        "\\end{array}\\right]\n",
        "$$\n",
        "which implies that\n",
        "$$\n",
        "\\begin{aligned}\n",
        "&a_1=\\left(a_1 \\cdot e_1\\right) e_1 \\\\\n",
        "&a_2=\\left(a_2 \\cdot e_1\\right) e_1+\\left(a_2 \\cdot e_2\\right) e_2 \\\\\n",
        "&\\vdots \\vdots \\\\\n",
        "&a_n=\\left(a_n \\cdot e_1\\right) e_1+\\left(a_n \\cdot e_2\\right) e_2+\\cdots+\\left(a_n \\cdot e_n\\right) e_n \\\\\n",
        "&a_{n+1}=\\left(a_{n+1} \\cdot e_1\\right) e_1+\\left(a_{n+1} \\cdot e_2\\right) e_2+\\cdots+\\left(a_{n+1} \\cdot e_n\\right) e_n \\\\\n",
        "&\\vdots \\vdots \\\\\n",
        "&a_m=\\left(a_m \\cdot e_1\\right) e_1+\\left(a_m \\cdot e_2\\right) e_2+\\cdots+\\left(a_m \\cdot e_n\\right) e_n \\\\\n",
        "&\n",
        "\\end{aligned}\n",
        "$$"
      ],
      "metadata": {
        "id": "ESStMeD1_zBj"
      }
    },
    {
      "cell_type": "code",
      "source": [
        "import numpy as np\n",
        "from scipy.linalg import qr\n"
      ],
      "metadata": {
        "id": "gTSh-Ik9_zPo"
      },
      "execution_count": null,
      "outputs": []
    },
    {
      "cell_type": "code",
      "source": [
        "def QR_decomposition(A):\n",
        "  n,m = A.shape\n",
        "  Q = np.empty((n,n)) #output\n",
        "  u = np.empty((n,n)) # aux\n",
        "  u[:,0] = A[:,0]\n",
        "  Q[:,0] = u[:,0]/np.linalg.norm(u[:,0])\n",
        "  for i in range(1,n):\n",
        "    u[:,i] = A[:,i]\n",
        "    for j in range(i):\n",
        "      u[:,i] = u[:,i] - (A[:,i] @ Q[:,j]) * Q[:,j] \n",
        "    Q[:,i] = u[:,i]/(np.linalg.norm(u[:,i]))\n",
        "  R = np.zeros((n,m))\n",
        "  for i in range(n):\n",
        "    for j in range(i,m):\n",
        "      R[i,j] = A[:,j] @ Q[:,i]\n",
        "  return Q,R"
      ],
      "metadata": {
        "id": "SCf5qdF7D-Tj"
      },
      "execution_count": null,
      "outputs": []
    },
    {
      "cell_type": "code",
      "source": [
        "# get all signs of matrix A\n",
        "def diag_sign(A):\n",
        "  D = np.diag(np.sign(np.diag(A)))\n",
        "  return D"
      ],
      "metadata": {
        "id": "Nd-b9gOPFRWz"
      },
      "execution_count": null,
      "outputs": []
    },
    {
      "cell_type": "code",
      "source": [
        "# imposing main diag of Q pos've\n",
        "# need to adjust col's in Q and rows in R\n",
        "\n",
        "def adjust_sign(Q,R):\n",
        "  D = diag_sign(Q)\n",
        "  Q[:,:] = Q @ D\n",
        "  R[:,:] = D @ R\n",
        "\n",
        "  return Q, R"
      ],
      "metadata": {
        "id": "k3BAh_QrFlTu"
      },
      "execution_count": null,
      "outputs": []
    },
    {
      "cell_type": "code",
      "source": [
        "A = np.array([[1.0, 1.0, 0.0],[1.0, 0.0, 1.0],[0.0, 1.0, 1.0]])"
      ],
      "metadata": {
        "id": "mnsGKCOkF-s3"
      },
      "execution_count": null,
      "outputs": []
    },
    {
      "cell_type": "code",
      "source": [
        "A"
      ],
      "metadata": {
        "colab": {
          "base_uri": "https://localhost:8080/"
        },
        "id": "BddHMLHDGK_M",
        "outputId": "1ae77cc1-db3c-4147-8236-818621659257"
      },
      "execution_count": null,
      "outputs": [
        {
          "output_type": "execute_result",
          "data": {
            "text/plain": [
              "array([[1., 1., 0.],\n",
              "       [1., 0., 1.],\n",
              "       [0., 1., 1.]])"
            ]
          },
          "metadata": {},
          "execution_count": 8
        }
      ]
    },
    {
      "cell_type": "code",
      "source": [
        "Q, R = adjust_sign(*QR_decomposition(A))"
      ],
      "metadata": {
        "id": "nYbh8BwrGOrZ"
      },
      "execution_count": null,
      "outputs": []
    },
    {
      "cell_type": "markdown",
      "source": [],
      "metadata": {
        "id": "MKcY9rj8GtTU"
      }
    },
    {
      "cell_type": "code",
      "source": [
        "Q"
      ],
      "metadata": {
        "colab": {
          "base_uri": "https://localhost:8080/"
        },
        "id": "if6WbPj2GtmK",
        "outputId": "8e318244-626d-4f5a-ed1e-c54a5537132c"
      },
      "execution_count": null,
      "outputs": [
        {
          "output_type": "execute_result",
          "data": {
            "text/plain": [
              "array([[ 0.70710678, -0.40824829, -0.57735027],\n",
              "       [ 0.70710678,  0.40824829,  0.57735027],\n",
              "       [ 0.        , -0.81649658,  0.57735027]])"
            ]
          },
          "metadata": {},
          "execution_count": 13
        }
      ]
    },
    {
      "cell_type": "code",
      "source": [
        "R"
      ],
      "metadata": {
        "colab": {
          "base_uri": "https://localhost:8080/"
        },
        "id": "50iCVlDqGuyE",
        "outputId": "76ca83f9-14a6-4ac4-dc6e-ee9cdf5b59e0"
      },
      "execution_count": null,
      "outputs": [
        {
          "output_type": "execute_result",
          "data": {
            "text/plain": [
              "array([[ 1.41421356,  0.70710678,  0.70710678],\n",
              "       [ 0.        , -1.22474487, -0.40824829],\n",
              "       [ 0.        ,  0.        ,  1.15470054]])"
            ]
          },
          "metadata": {},
          "execution_count": 14
        }
      ]
    },
    {
      "cell_type": "code",
      "source": [
        "Q_sp, R_sp = adjust_sign(*qr(A))"
      ],
      "metadata": {
        "id": "Jem-ZhGkGxCq"
      },
      "execution_count": null,
      "outputs": []
    },
    {
      "cell_type": "code",
      "source": [
        "Q_sp-Q\n",
        "R_sp - R"
      ],
      "metadata": {
        "colab": {
          "base_uri": "https://localhost:8080/"
        },
        "id": "D4Ea4uF5G4r5",
        "outputId": "a99a4908-972f-4d76-c598-3f3c50074e25"
      },
      "execution_count": null,
      "outputs": [
        {
          "output_type": "execute_result",
          "data": {
            "text/plain": [
              "array([[ 2.22044605e-16, -2.22044605e-16,  0.00000000e+00],\n",
              "       [ 0.00000000e+00,  4.44089210e-16,  0.00000000e+00],\n",
              "       [ 0.00000000e+00,  0.00000000e+00,  0.00000000e+00]])"
            ]
          },
          "metadata": {},
          "execution_count": 18
        }
      ]
    },
    {
      "cell_type": "code",
      "source": [
        "def sum(a,b):\n",
        "  return a+b\n",
        "\n",
        "vals = (1,2)\n",
        "\n",
        "sum(vals) "
      ],
      "metadata": {
        "colab": {
          "base_uri": "https://localhost:8080/",
          "height": 203
        },
        "id": "5dtdin5IGV4T",
        "outputId": "9418ad89-47e1-4151-83a0-98cb5b576f1c"
      },
      "execution_count": null,
      "outputs": [
        {
          "output_type": "error",
          "ename": "TypeError",
          "evalue": "ignored",
          "traceback": [
            "\u001b[0;31m---------------------------------------------------------------------------\u001b[0m",
            "\u001b[0;31mTypeError\u001b[0m                                 Traceback (most recent call last)",
            "\u001b[0;32m<ipython-input-10-c11421bb195c>\u001b[0m in \u001b[0;36m<module>\u001b[0;34m\u001b[0m\n\u001b[1;32m      4\u001b[0m \u001b[0mvals\u001b[0m \u001b[0;34m=\u001b[0m \u001b[0;34m(\u001b[0m\u001b[0;36m1\u001b[0m\u001b[0;34m,\u001b[0m\u001b[0;36m2\u001b[0m\u001b[0;34m)\u001b[0m\u001b[0;34m\u001b[0m\u001b[0;34m\u001b[0m\u001b[0m\n\u001b[1;32m      5\u001b[0m \u001b[0;34m\u001b[0m\u001b[0m\n\u001b[0;32m----> 6\u001b[0;31m \u001b[0msum\u001b[0m\u001b[0;34m(\u001b[0m\u001b[0mvals\u001b[0m\u001b[0;34m)\u001b[0m\u001b[0;34m\u001b[0m\u001b[0;34m\u001b[0m\u001b[0m\n\u001b[0m",
            "\u001b[0;31mTypeError\u001b[0m: sum() missing 1 required positional argument: 'b'"
          ]
        }
      ]
    },
    {
      "cell_type": "code",
      "source": [
        "sum(*vals)"
      ],
      "metadata": {
        "colab": {
          "base_uri": "https://localhost:8080/"
        },
        "id": "nezsFa6iGec9",
        "outputId": "5d07b636-6d61-4e68-e291-90a473dfa90e"
      },
      "execution_count": null,
      "outputs": [
        {
          "output_type": "execute_result",
          "data": {
            "text/plain": [
              "3"
            ]
          },
          "metadata": {},
          "execution_count": 11
        }
      ]
    },
    {
      "cell_type": "code",
      "source": [
        "def QR_eigeinvalues(A, tol = 1e-10, maxiter = 1000):\n",
        "\n",
        "  A_old = np.copy(A)\n",
        "  A_new = np.copy(A)\n",
        "\n",
        "  diff = np.inf\n",
        "  ctr = 0\n",
        "  while(diff > tol) and (ctr < maxiter):\n",
        "\n",
        "    A_old[:,:] = A_new\n",
        "    Q,R = QR_decomposition(A_old)\n",
        "\n",
        "    A_new[:,:] = R @ Q\n",
        "    diff = np.abs(A_new - A_old).max()\n",
        "\n",
        "    ctr += 1\n",
        "\n",
        "  eigvals = np.diag(A_new)\n",
        "\n",
        "  return eigvals"
      ],
      "metadata": {
        "id": "z1ksFuRgGjcY"
      },
      "execution_count": null,
      "outputs": []
    },
    {
      "cell_type": "code",
      "source": [
        "A = np.random.random((3,3))"
      ],
      "metadata": {
        "id": "FTsM094xIb2j"
      },
      "execution_count": null,
      "outputs": []
    },
    {
      "cell_type": "code",
      "source": [
        "A"
      ],
      "metadata": {
        "colab": {
          "base_uri": "https://localhost:8080/"
        },
        "id": "x0DdHwV2Igxg",
        "outputId": "23cd5106-6712-4365-a31f-ca9acdefcea6"
      },
      "execution_count": null,
      "outputs": [
        {
          "output_type": "execute_result",
          "data": {
            "text/plain": [
              "array([[0.05121208, 0.51564461, 0.63763958],\n",
              "       [0.37514248, 0.18282338, 0.32877411],\n",
              "       [0.77772854, 0.04514839, 0.16180153]])"
            ]
          },
          "metadata": {},
          "execution_count": 51
        }
      ]
    },
    {
      "cell_type": "code",
      "source": [
        "sorted(QR_eigeinvalues(A))"
      ],
      "metadata": {
        "colab": {
          "base_uri": "https://localhost:8080/"
        },
        "id": "5qSzIqZvIkn-",
        "outputId": "a36a0f1b-ab47-4b0f-fee2-47108b467f54"
      },
      "execution_count": null,
      "outputs": [
        {
          "output_type": "execute_result",
          "data": {
            "text/plain": [
              "[-0.6152785677484813, -0.03336261716409522, 1.0444781771309943]"
            ]
          },
          "metadata": {},
          "execution_count": 52
        }
      ]
    },
    {
      "cell_type": "code",
      "source": [
        "sorted(np.linalg.eigvals(A))"
      ],
      "metadata": {
        "colab": {
          "base_uri": "https://localhost:8080/"
        },
        "id": "hDi3YyruInXs",
        "outputId": "88d18ca8-e7f2-4b57-a454-5d3b1e321031"
      },
      "execution_count": null,
      "outputs": [
        {
          "output_type": "execute_result",
          "data": {
            "text/plain": [
              "[-0.6152785677484816, -0.033362617164092195, 1.044478177130991]"
            ]
          },
          "metadata": {},
          "execution_count": 53
        }
      ]
    },
    {
      "cell_type": "code",
      "source": [
        "# "
      ],
      "metadata": {
        "id": "ASxQs20iItwa"
      },
      "execution_count": null,
      "outputs": []
    },
    {
      "cell_type": "markdown",
      "source": [
        "# $A = U\\Lambda U^{-1}$"
      ],
      "metadata": {
        "id": "jO7gk9pmJXKR"
      }
    },
    {
      "cell_type": "code",
      "source": [
        "M = np.array([[1, 2, 1],[0, 1, 0], [ 1, 0, 1]])"
      ],
      "metadata": {
        "id": "2F9sMvxsJbDy"
      },
      "execution_count": null,
      "outputs": []
    },
    {
      "cell_type": "code",
      "source": [
        "M"
      ],
      "metadata": {
        "colab": {
          "base_uri": "https://localhost:8080/"
        },
        "id": "asdPQl2QJjJe",
        "outputId": "2bcf3c02-5cb2-4529-a98f-77fd4a0300dc"
      },
      "execution_count": null,
      "outputs": [
        {
          "output_type": "execute_result",
          "data": {
            "text/plain": [
              "array([[1, 2, 1],\n",
              "       [0, 1, 0],\n",
              "       [1, 0, 1]])"
            ]
          },
          "metadata": {},
          "execution_count": 57
        }
      ]
    },
    {
      "cell_type": "code",
      "source": [
        "ld, U = np.linalg.eig(M)"
      ],
      "metadata": {
        "id": "C87Oo4LWJovr"
      },
      "execution_count": null,
      "outputs": []
    },
    {
      "cell_type": "code",
      "source": [
        "print(ld)"
      ],
      "metadata": {
        "colab": {
          "base_uri": "https://localhost:8080/"
        },
        "id": "IRL22RZMJse6",
        "outputId": "98536a39-e077-4920-c2ec-26b1c4d49f1f"
      },
      "execution_count": null,
      "outputs": [
        {
          "output_type": "stream",
          "name": "stdout",
          "text": [
            "[2. 0. 1.]\n"
          ]
        }
      ]
    },
    {
      "cell_type": "code",
      "source": [
        "print(U)"
      ],
      "metadata": {
        "colab": {
          "base_uri": "https://localhost:8080/"
        },
        "id": "NYD7BAnEJuIZ",
        "outputId": "7c8ea22e-147e-466f-8afa-5290fa6803c1"
      },
      "execution_count": null,
      "outputs": [
        {
          "output_type": "stream",
          "name": "stdout",
          "text": [
            "[[ 7.07106781e-01 -7.07106781e-01  2.00093587e-17]\n",
            " [ 0.00000000e+00  0.00000000e+00  4.47213595e-01]\n",
            " [ 7.07106781e-01  7.07106781e-01 -8.94427191e-01]]\n"
          ]
        }
      ]
    },
    {
      "cell_type": "code",
      "source": [
        "U_inv = np.linalg.inv(U)"
      ],
      "metadata": {
        "id": "aMlcgJNFJy3I"
      },
      "execution_count": null,
      "outputs": []
    },
    {
      "cell_type": "code",
      "source": [
        "U_inv"
      ],
      "metadata": {
        "colab": {
          "base_uri": "https://localhost:8080/"
        },
        "id": "P4zAqRlXJ2kH",
        "outputId": "28db3911-9a22-4010-e622-83ef5caa1f96"
      },
      "execution_count": null,
      "outputs": [
        {
          "output_type": "execute_result",
          "data": {
            "text/plain": [
              "array([[ 0.70710678,  1.41421356,  0.70710678],\n",
              "       [-0.70710678,  1.41421356,  0.70710678],\n",
              "       [ 0.        ,  2.23606798,  0.        ]])"
            ]
          },
          "metadata": {},
          "execution_count": 62
        }
      ]
    },
    {
      "cell_type": "code",
      "source": [
        "Lambda = np.diag(ld)"
      ],
      "metadata": {
        "id": "Qs3iIAxlKCA0"
      },
      "execution_count": null,
      "outputs": []
    },
    {
      "cell_type": "code",
      "source": [
        "out = np.dot(U, np.dot(Lambda, U_inv))"
      ],
      "metadata": {
        "id": "qmK5ej4yJ3vk"
      },
      "execution_count": null,
      "outputs": []
    },
    {
      "cell_type": "code",
      "source": [
        "out"
      ],
      "metadata": {
        "colab": {
          "base_uri": "https://localhost:8080/"
        },
        "id": "WXLD7ZEsJ-JD",
        "outputId": "c5ea6d43-9b5a-4a47-d75b-255a54ec762d"
      },
      "execution_count": null,
      "outputs": [
        {
          "output_type": "execute_result",
          "data": {
            "text/plain": [
              "array([[ 1.00000000e+00,  2.00000000e+00,  1.00000000e+00],\n",
              "       [ 0.00000000e+00,  1.00000000e+00,  0.00000000e+00],\n",
              "       [ 1.00000000e+00, -9.22769578e-17,  1.00000000e+00]])"
            ]
          },
          "metadata": {},
          "execution_count": 69
        }
      ]
    },
    {
      "cell_type": "code",
      "source": [],
      "metadata": {
        "id": "hbur0gCZJ-yR"
      },
      "execution_count": null,
      "outputs": []
    }
  ]
}